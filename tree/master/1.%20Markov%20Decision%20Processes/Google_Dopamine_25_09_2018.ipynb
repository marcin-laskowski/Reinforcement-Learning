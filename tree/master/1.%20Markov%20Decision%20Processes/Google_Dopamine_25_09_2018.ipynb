{
  "nbformat": 4,
  "nbformat_minor": 0,
  "metadata": {
    "colab": {
      "name": "Google_Dopamine_25.09.2018.ipynb",
      "version": "0.3.2",
      "provenance": [],
      "include_colab_link": true
    },
    "kernelspec": {
      "name": "python3",
      "display_name": "Python 3"
    }
  },
  "cells": [
    {
      "cell_type": "markdown",
      "metadata": {
        "id": "view-in-github",
        "colab_type": "text"
      },
      "source": [
        "[View in Colaboratory](https://colab.research.google.com/github/mlaskowski17/Reinforcement-Learning/blob/master/tree/master/1.%20Markov%20Decision%20Processes/Google_Dopamine_25_09_2018.ipynb)"
      ]
    },
    {
      "metadata": {
        "id": "U-XPRypXuxs0",
        "colab_type": "text"
      },
      "cell_type": "markdown",
      "source": [
        "## GOOGLE DOPAMINE\n",
        "\n"
      ]
    },
    {
      "metadata": {
        "id": "m0S-41qtu9ij",
        "colab_type": "code",
        "colab": {}
      },
      "cell_type": "code",
      "source": [
        "# @title Install necessary packages.\n",
        "\n",
        "# dopamine library for RL\n",
        "!pip install --upgrade --no-cache-dir dopamine-rl\n",
        "# one of opamine dependencies\n",
        "!pip install cmake\n",
        "# Arcade Learning Environment\n",
        "!pip install atari_py"
      ],
      "execution_count": 0,
      "outputs": []
    },
    {
      "metadata": {
        "id": "-huwaDvPBai_",
        "colab_type": "code",
        "colab": {}
      },
      "cell_type": "code",
      "source": [
        "# @title Necessary imports and globals.\n",
        "\n",
        "# matrix math\n",
        "import numpy as np\n",
        "# load files\n",
        "import os\n",
        "# dopamine framework (DQN for baselines)\n",
        "from dopamine.agents.dqn import dqn_agent\n",
        "# high level agent-environment excecution engine\n",
        "from dopamine.atari import run_experiment\n",
        "# visualization + data downloading\n",
        "from dopamine.colab import utils as colab_utils\n",
        "# warnings\n",
        "from absl import flags\n",
        "\n",
        "#w here to store training logs\n",
        "BASE_PATH = '/tmp/colab_dope_run'  # @param\n",
        "# which arcade environment?\n",
        "GAME = 'Asterix'  # @param"
      ],
      "execution_count": 0,
      "outputs": []
    },
    {
      "metadata": {
        "id": "rXtfsrGRCfS-",
        "colab_type": "code",
        "colab": {}
      },
      "cell_type": "code",
      "source": [
        ""
      ],
      "execution_count": 0,
      "outputs": []
    }
  ]
}