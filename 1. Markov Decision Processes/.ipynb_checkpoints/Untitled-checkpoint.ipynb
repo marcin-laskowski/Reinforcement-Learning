{
 "cells": [
  {
   "cell_type": "markdown",
   "metadata": {},
   "source": [
    "# GOOGLE DOPAMINE"
   ]
  },
  {
   "cell_type": "markdown",
   "metadata": {},
   "source": [
    "Dopamine is a research framework for fast prototyping of reinforcement learning algorithms. It aims to fill the need for a small, easily grokked codebase in which users can freely experiment with wild ideas (speculative research). (https://github.com/google/dopamine)"
   ]
  },
  {
   "cell_type": "code",
   "execution_count": 2,
   "metadata": {},
   "outputs": [
    {
     "name": "stdout",
     "output_type": "stream",
     "text": [
      "Collecting dopamine-rl\n",
      "\u001b[?25l  Downloading https://files.pythonhosted.org/packages/a3/60/ce40162119275f8961b79ee16d98038f4ca85c2b449daced3b5900952c27/dopamine_rl-1.0.2-py3-none-any.whl (65kB)\n",
      "\u001b[K    100% |████████████████████████████████| 71kB 1.1MB/s ta 0:00:01\n",
      "\u001b[?25hCollecting opencv-python>=3.4.1.15 (from dopamine-rl)\n",
      "\u001b[?25l  Downloading https://files.pythonhosted.org/packages/18/7f/c836c44ab30074a8486e30f8ea6adc8e6ac02332851ab6cc069e2ac35b84/opencv_python-3.4.3.18-cp36-cp36m-manylinux1_x86_64.whl (25.0MB)\n",
      "\u001b[K    100% |████████████████████████████████| 25.0MB 3.8MB/s ta 0:00:01\n",
      "\u001b[?25hRequirement not upgraded as not directly required: gym>=0.10.5 in /home/marcin/gym (from dopamine-rl) (0.10.5)\n",
      "Requirement not upgraded as not directly required: tensorflow in /home/marcin/anaconda3/lib/python3.6/site-packages (from dopamine-rl) (1.1.0)\n",
      "Collecting gin-config>=0.1.1 (from dopamine-rl)\n",
      "  Downloading https://files.pythonhosted.org/packages/e4/07/c8054ce483f058cd8fa2368c61502f65ab31d09d4c9013b976a576c20758/gin_config-0.1.1.2-py3-none-any.whl\n",
      "Collecting absl-py>=0.2.2 (from dopamine-rl)\n",
      "\u001b[?25l  Downloading https://files.pythonhosted.org/packages/16/db/cce5331638138c178dd1d5fb69f3f55eb3787a12efd9177177ae203e847f/absl-py-0.5.0.tar.gz (90kB)\n",
      "\u001b[K    100% |████████████████████████████████| 92kB 3.3MB/s ta 0:00:01\n",
      "\u001b[?25hRequirement not upgraded as not directly required: numpy>=1.11.3 in /home/marcin/anaconda3/lib/python3.6/site-packages (from opencv-python>=3.4.1.15->dopamine-rl) (1.14.3)\n",
      "Requirement not upgraded as not directly required: requests>=2.0 in /home/marcin/anaconda3/lib/python3.6/site-packages (from gym>=0.10.5->dopamine-rl) (2.18.4)\n",
      "Requirement not upgraded as not directly required: six in /home/marcin/anaconda3/lib/python3.6/site-packages (from gym>=0.10.5->dopamine-rl) (1.11.0)\n",
      "Requirement not upgraded as not directly required: pyglet>=1.2.0 in /home/marcin/anaconda3/lib/python3.6/site-packages (from gym>=0.10.5->dopamine-rl) (1.3.2)\n",
      "Requirement not upgraded as not directly required: wheel>=0.26 in /home/marcin/anaconda3/lib/python3.6/site-packages (from tensorflow->dopamine-rl) (0.31.1)\n",
      "Requirement not upgraded as not directly required: protobuf>=3.2.0 in /home/marcin/anaconda3/lib/python3.6/site-packages (from tensorflow->dopamine-rl) (3.5.2)\n",
      "Requirement not upgraded as not directly required: werkzeug>=0.11.10 in /home/marcin/anaconda3/lib/python3.6/site-packages (from tensorflow->dopamine-rl) (0.14.1)\n",
      "Requirement not upgraded as not directly required: chardet<3.1.0,>=3.0.2 in /home/marcin/anaconda3/lib/python3.6/site-packages (from requests>=2.0->gym>=0.10.5->dopamine-rl) (3.0.4)\n",
      "Requirement not upgraded as not directly required: idna<2.7,>=2.5 in /home/marcin/anaconda3/lib/python3.6/site-packages (from requests>=2.0->gym>=0.10.5->dopamine-rl) (2.6)\n",
      "Requirement not upgraded as not directly required: urllib3<1.23,>=1.21.1 in /home/marcin/anaconda3/lib/python3.6/site-packages (from requests>=2.0->gym>=0.10.5->dopamine-rl) (1.22)\n",
      "Requirement not upgraded as not directly required: certifi>=2017.4.17 in /home/marcin/anaconda3/lib/python3.6/site-packages (from requests>=2.0->gym>=0.10.5->dopamine-rl) (2018.4.16)\n",
      "Requirement not upgraded as not directly required: future in /home/marcin/anaconda3/lib/python3.6/site-packages (from pyglet>=1.2.0->gym>=0.10.5->dopamine-rl) (0.16.0)\n",
      "Requirement not upgraded as not directly required: setuptools in /home/marcin/anaconda3/lib/python3.6/site-packages (from protobuf>=3.2.0->tensorflow->dopamine-rl) (40.0.0)\n",
      "Installing collected packages: opencv-python, gin-config, absl-py, dopamine-rl\n",
      "  Running setup.py install for absl-py ... \u001b[?25ldone\n",
      "\u001b[?25hSuccessfully installed absl-py-0.5.0 dopamine-rl-1.0.2 gin-config-0.1.1.2 opencv-python-3.4.3.18\n",
      "\u001b[33mYou are using pip version 10.0.1, however version 18.0 is available.\n",
      "You should consider upgrading via the 'pip install --upgrade pip' command.\u001b[0m\n",
      "Collecting cmake\n",
      "\u001b[?25l  Downloading https://files.pythonhosted.org/packages/af/ee/36a244e43fc9ea64a2aab9ec854616a1771c11e91ae97d7b34246f922668/cmake-3.12.0-cp36-cp36m-manylinux1_x86_64.whl (17.7MB)\n",
      "\u001b[K    100% |████████████████████████████████| 17.7MB 1.7MB/s ta 0:00:011 9% |███                             | 1.6MB 2.7MB/s eta 0:00:06    14% |████▊                           | 2.6MB 6.6MB/s eta 0:00:03    22% |███████▏                        | 4.0MB 3.0MB/s eta 0:00:05    23% |███████▌                        | 4.1MB 3.0MB/s eta 0:00:05    56% |██████████████████              | 9.9MB 390kB/s eta 0:00:20    88% |████████████████████████████▍   | 15.6MB 2.6MB/s eta 0:00:01\n",
      "\u001b[?25hInstalling collected packages: cmake\n",
      "Successfully installed cmake-3.12.0\n",
      "\u001b[33mYou are using pip version 10.0.1, however version 18.0 is available.\n",
      "You should consider upgrading via the 'pip install --upgrade pip' command.\u001b[0m\n",
      "Collecting atari_py\n",
      "\u001b[?25l  Downloading https://files.pythonhosted.org/packages/16/cc/aabbe1580df0f9b22851e210d5e35e3faa305d10a8783997fb8e79239dbc/atari_py-0.1.6-py3-none-manylinux1_x86_64.whl (1.7MB)\n",
      "\u001b[K    100% |████████████████████████████████| 1.7MB 2.9MB/s ta 0:00:01\n",
      "\u001b[?25hRequirement already satisfied: six in /home/marcin/anaconda3/lib/python3.6/site-packages (from atari_py) (1.11.0)\n",
      "Requirement already satisfied: numpy in /home/marcin/anaconda3/lib/python3.6/site-packages (from atari_py) (1.14.3)\n",
      "Installing collected packages: atari-py\n",
      "Successfully installed atari-py-0.1.6\n",
      "\u001b[33mYou are using pip version 10.0.1, however version 18.0 is available.\n",
      "You should consider upgrading via the 'pip install --upgrade pip' command.\u001b[0m\n"
     ]
    }
   ],
   "source": [
    "# INSTALL NECESSARY PACKAGES\n",
    "\n",
    "# dopamine for RL\n",
    "!pip install --upgrade --no-cache-dir dopamine-rl\n",
    "# Dopamine dependencies\n",
    "!pip install cmake\n",
    "# Arcade Learning Environment\n",
    "!pip install atari_py"
   ]
  },
  {
   "cell_type": "code",
   "execution_count": 3,
   "metadata": {},
   "outputs": [
    {
     "ename": "ImportError",
     "evalue": "cannot import name 'text_summary'",
     "output_type": "error",
     "traceback": [
      "\u001b[0;31m---------------------------------------------------------------------------\u001b[0m",
      "\u001b[0;31mImportError\u001b[0m                               Traceback (most recent call last)",
      "\u001b[0;32m<ipython-input-3-b4fc63aa2791>\u001b[0m in \u001b[0;36m<module>\u001b[0;34m()\u001b[0m\n\u001b[1;32m      6\u001b[0m \u001b[0;32mimport\u001b[0m \u001b[0mos\u001b[0m\u001b[0;34m\u001b[0m\u001b[0m\n\u001b[1;32m      7\u001b[0m \u001b[0;31m#DQN for baselines\u001b[0m\u001b[0;34m\u001b[0m\u001b[0;34m\u001b[0m\u001b[0m\n\u001b[0;32m----> 8\u001b[0;31m \u001b[0;32mfrom\u001b[0m \u001b[0mdopamine\u001b[0m\u001b[0;34m.\u001b[0m\u001b[0magents\u001b[0m\u001b[0;34m.\u001b[0m\u001b[0mdqn\u001b[0m \u001b[0;32mimport\u001b[0m \u001b[0mdqn_agent\u001b[0m\u001b[0;34m\u001b[0m\u001b[0m\n\u001b[0m\u001b[1;32m      9\u001b[0m \u001b[0;31m#high level agent-environment excecution engine\u001b[0m\u001b[0;34m\u001b[0m\u001b[0;34m\u001b[0m\u001b[0m\n\u001b[1;32m     10\u001b[0m \u001b[0;32mfrom\u001b[0m \u001b[0mdopamine\u001b[0m\u001b[0;34m.\u001b[0m\u001b[0matari\u001b[0m \u001b[0;32mimport\u001b[0m \u001b[0mrun_experiment\u001b[0m\u001b[0;34m\u001b[0m\u001b[0m\n",
      "\u001b[0;32m~/anaconda3/lib/python3.6/site-packages/dopamine/agents/dqn/dqn_agent.py\u001b[0m in \u001b[0;36m<module>\u001b[0;34m()\u001b[0m\n\u001b[1;32m     25\u001b[0m \u001b[0;34m\u001b[0m\u001b[0m\n\u001b[1;32m     26\u001b[0m \u001b[0;34m\u001b[0m\u001b[0m\n\u001b[0;32m---> 27\u001b[0;31m \u001b[0;32mfrom\u001b[0m \u001b[0mdopamine\u001b[0m\u001b[0;34m.\u001b[0m\u001b[0mreplay_memory\u001b[0m \u001b[0;32mimport\u001b[0m \u001b[0mcircular_replay_buffer\u001b[0m\u001b[0;34m\u001b[0m\u001b[0m\n\u001b[0m\u001b[1;32m     28\u001b[0m \u001b[0;32mimport\u001b[0m \u001b[0mnumpy\u001b[0m \u001b[0;32mas\u001b[0m \u001b[0mnp\u001b[0m\u001b[0;34m\u001b[0m\u001b[0m\n\u001b[1;32m     29\u001b[0m \u001b[0;32mimport\u001b[0m \u001b[0mtensorflow\u001b[0m \u001b[0;32mas\u001b[0m \u001b[0mtf\u001b[0m\u001b[0;34m\u001b[0m\u001b[0m\n",
      "\u001b[0;32m~/anaconda3/lib/python3.6/site-packages/dopamine/replay_memory/circular_replay_buffer.py\u001b[0m in \u001b[0;36m<module>\u001b[0;34m()\u001b[0m\n\u001b[1;32m     33\u001b[0m \u001b[0;32mimport\u001b[0m \u001b[0mtensorflow\u001b[0m \u001b[0;32mas\u001b[0m \u001b[0mtf\u001b[0m\u001b[0;34m\u001b[0m\u001b[0m\n\u001b[1;32m     34\u001b[0m \u001b[0;34m\u001b[0m\u001b[0m\n\u001b[0;32m---> 35\u001b[0;31m \u001b[0;32mimport\u001b[0m \u001b[0mgin\u001b[0m\u001b[0;34m.\u001b[0m\u001b[0mtf\u001b[0m\u001b[0;34m\u001b[0m\u001b[0m\n\u001b[0m\u001b[1;32m     36\u001b[0m \u001b[0;34m\u001b[0m\u001b[0m\n\u001b[1;32m     37\u001b[0m \u001b[0;31m# Defines a type describing part of the tuple returned by the replay\u001b[0m\u001b[0;34m\u001b[0m\u001b[0;34m\u001b[0m\u001b[0m\n",
      "\u001b[0;32m~/anaconda3/lib/python3.6/site-packages/gin/tf/__init__.py\u001b[0m in \u001b[0;36m<module>\u001b[0;34m()\u001b[0m\n\u001b[1;32m     17\u001b[0m \u001b[0;34m\u001b[0m\u001b[0m\n\u001b[1;32m     18\u001b[0m \u001b[0;34m\u001b[0m\u001b[0m\n\u001b[0;32m---> 19\u001b[0;31m \u001b[0;32mfrom\u001b[0m \u001b[0mgin\u001b[0m\u001b[0;34m.\u001b[0m\u001b[0mtf\u001b[0m\u001b[0;34m.\u001b[0m\u001b[0mutils\u001b[0m \u001b[0;32mimport\u001b[0m \u001b[0mGinConfigSaverHook\u001b[0m\u001b[0;34m\u001b[0m\u001b[0m\n\u001b[0m",
      "\u001b[0;32m~/anaconda3/lib/python3.6/site-packages/gin/tf/utils.py\u001b[0m in \u001b[0;36m<module>\u001b[0;34m()\u001b[0m\n\u001b[1;32m     25\u001b[0m \u001b[0;34m\u001b[0m\u001b[0m\n\u001b[1;32m     26\u001b[0m \u001b[0;32mfrom\u001b[0m \u001b[0mtensorflow\u001b[0m\u001b[0;34m.\u001b[0m\u001b[0mcore\u001b[0m\u001b[0;34m.\u001b[0m\u001b[0mframework\u001b[0m \u001b[0;32mimport\u001b[0m \u001b[0msummary_pb2\u001b[0m\u001b[0;34m\u001b[0m\u001b[0m\n\u001b[0;32m---> 27\u001b[0;31m \u001b[0;32mfrom\u001b[0m \u001b[0mtensorflow\u001b[0m\u001b[0;34m.\u001b[0m\u001b[0mpython\u001b[0m\u001b[0;34m.\u001b[0m\u001b[0msummary\u001b[0m \u001b[0;32mimport\u001b[0m \u001b[0mtext_summary\u001b[0m\u001b[0;34m\u001b[0m\u001b[0m\n\u001b[0m\u001b[1;32m     28\u001b[0m \u001b[0;34m\u001b[0m\u001b[0m\n\u001b[1;32m     29\u001b[0m \u001b[0;32mfrom\u001b[0m \u001b[0mgin\u001b[0m \u001b[0;32mimport\u001b[0m \u001b[0mconfig\u001b[0m\u001b[0;34m\u001b[0m\u001b[0m\n",
      "\u001b[0;31mImportError\u001b[0m: cannot import name 'text_summary'"
     ]
    }
   ],
   "source": [
    "# NECESSARY IMPORT AND GLOBALS\n",
    "\n",
    "#matrix math\n",
    "import numpy as np\n",
    "#load files\n",
    "import os\n",
    "#DQN for baselines\n",
    "from dopamine.agents.dqn import dqn_agent\n",
    "#high level agent-environment excecution engine\n",
    "from dopamine.atari import run_experiment\n",
    "#visualization + data downloading\n",
    "from dopamine.colab import utils as colab_utils\n",
    "#warnings\n",
    "from absl import flags\n",
    "\n",
    "#where to store training logs\n",
    "BASE_PATH = '/tmp/colab_dope_run'  # @param\n",
    "#which arcade environment?\n",
    "GAME = 'Asterix'  # @param"
   ]
  },
  {
   "cell_type": "code",
   "execution_count": null,
   "metadata": {},
   "outputs": [],
   "source": []
  }
 ],
 "metadata": {
  "kernelspec": {
   "display_name": "Python 3",
   "language": "python",
   "name": "python3"
  },
  "language_info": {
   "codemirror_mode": {
    "name": "ipython",
    "version": 3
   },
   "file_extension": ".py",
   "mimetype": "text/x-python",
   "name": "python",
   "nbconvert_exporter": "python",
   "pygments_lexer": "ipython3",
   "version": "3.6.5"
  }
 },
 "nbformat": 4,
 "nbformat_minor": 2
}
